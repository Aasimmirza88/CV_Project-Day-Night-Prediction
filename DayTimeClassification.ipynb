{
 "cells": [
  {
   "cell_type": "code",
   "execution_count": 2,
   "metadata": {},
   "outputs": [
    {
     "name": "stdout",
     "output_type": "stream",
     "text": [
      "Collecting matplotlibNote: you may need to restart the kernel to use updated packages.\n",
      "\n",
      "  Downloading matplotlib-3.9.3-cp312-cp312-win_amd64.whl.metadata (11 kB)\n",
      "Collecting contourpy>=1.0.1 (from matplotlib)\n",
      "  Downloading contourpy-1.3.1-cp312-cp312-win_amd64.whl.metadata (5.4 kB)\n",
      "Collecting cycler>=0.10 (from matplotlib)\n",
      "  Using cached cycler-0.12.1-py3-none-any.whl.metadata (3.8 kB)\n",
      "Collecting fonttools>=4.22.0 (from matplotlib)\n",
      "  Downloading fonttools-4.55.2-cp312-cp312-win_amd64.whl.metadata (168 kB)\n",
      "Collecting kiwisolver>=1.3.1 (from matplotlib)\n",
      "  Downloading kiwisolver-1.4.7-cp312-cp312-win_amd64.whl.metadata (6.4 kB)\n",
      "Requirement already satisfied: numpy>=1.23 in c:\\users\\my pc\\anaconda3\\envs\\cv_env\\lib\\site-packages (from matplotlib) (2.1.3)\n",
      "Requirement already satisfied: packaging>=20.0 in c:\\users\\my pc\\anaconda3\\envs\\cv_env\\lib\\site-packages (from matplotlib) (24.2)\n",
      "Collecting pillow>=8 (from matplotlib)\n",
      "  Using cached pillow-11.0.0-cp312-cp312-win_amd64.whl.metadata (9.3 kB)\n",
      "Collecting pyparsing>=2.3.1 (from matplotlib)\n",
      "  Using cached pyparsing-3.2.0-py3-none-any.whl.metadata (5.0 kB)\n",
      "Requirement already satisfied: python-dateutil>=2.7 in c:\\users\\my pc\\anaconda3\\envs\\cv_env\\lib\\site-packages (from matplotlib) (2.9.0.post0)\n",
      "Requirement already satisfied: six>=1.5 in c:\\users\\my pc\\anaconda3\\envs\\cv_env\\lib\\site-packages (from python-dateutil>=2.7->matplotlib) (1.17.0)\n",
      "Downloading matplotlib-3.9.3-cp312-cp312-win_amd64.whl (7.8 MB)\n",
      "   ---------------------------------------- 0.0/7.8 MB ? eta -:--:--\n",
      "   --------------------- ------------------ 4.2/7.8 MB 21.0 MB/s eta 0:00:01\n",
      "   ---------------------------------------- 7.8/7.8 MB 19.4 MB/s eta 0:00:00\n",
      "Downloading contourpy-1.3.1-cp312-cp312-win_amd64.whl (220 kB)\n",
      "Using cached cycler-0.12.1-py3-none-any.whl (8.3 kB)\n",
      "Downloading fonttools-4.55.2-cp312-cp312-win_amd64.whl (2.2 MB)\n",
      "   ---------------------------------------- 0.0/2.2 MB ? eta -:--:--\n",
      "   ---------------------------------------- 2.2/2.2 MB 13.8 MB/s eta 0:00:00\n",
      "Downloading kiwisolver-1.4.7-cp312-cp312-win_amd64.whl (55 kB)\n",
      "Using cached pillow-11.0.0-cp312-cp312-win_amd64.whl (2.6 MB)\n",
      "Using cached pyparsing-3.2.0-py3-none-any.whl (106 kB)\n",
      "Installing collected packages: pyparsing, pillow, kiwisolver, fonttools, cycler, contourpy, matplotlib\n",
      "Successfully installed contourpy-1.3.1 cycler-0.12.1 fonttools-4.55.2 kiwisolver-1.4.7 matplotlib-3.9.3 pillow-11.0.0 pyparsing-3.2.0\n"
     ]
    }
   ],
   "source": [
    "%pip install matplotlib"
   ]
  },
  {
   "cell_type": "code",
   "execution_count": 4,
   "metadata": {},
   "outputs": [],
   "source": [
    "import cv2\n",
    "import numpy as np\n",
    "#import matplotlib.pyplot as plt"
   ]
  },
  {
   "cell_type": "code",
   "execution_count": 5,
   "metadata": {},
   "outputs": [],
   "source": [
    "def video_saver(cap, output_path):\n",
    "    fps = cap.get(cv2.CAP_PROP_FPS)\n",
    "    height = int(cap.get(cv2.CAP_PROP_FRAME_HEIGHT))\n",
    "    width = int(cap.get(cv2.CAP_PROP_FRAME_WIDTH))\n",
    "    fourcc = cv2.VideoWriter_fourcc(*'XVID')  # Example codec\n",
    "    out = cv2.VideoWriter(output_path, fourcc, fps, (width,height))\n",
    "\n",
    "    return out\n",
    "    "
   ]
  },
  {
   "cell_type": "code",
   "execution_count": null,
   "metadata": {},
   "outputs": [
    {
     "name": "stdout",
     "output_type": "stream",
     "text": [
      "End of video.\n",
      "Total no of frames: 1014\n",
      "Evening is 88.36%\n",
      "Dusk is 1.58%\n",
      "Night is 10.06%\n"
     ]
    }
   ],
   "source": [
    "def VideoClassification(video_path, output_path):\n",
    "\n",
    "    cap = cv2.VideoCapture(video_path)\n",
    "    if not cap.isOpened():\n",
    "        print(\"Error opening the video\")\n",
    "        exit()\n",
    "\n",
    "    out = video_saver(cap, output_path)\n",
    "\n",
    "    frame_cnt, eve_cnt, dusk_cnt, night_cnt = 0,0,0,0\n",
    "    prediction = \"\"\n",
    "\n",
    "    while True:\n",
    "        ret, frame = cap.read()\n",
    "        \n",
    "        if not ret:\n",
    "            print(\"End of video.\")\n",
    "            break\n",
    "\n",
    "        frame_cnt += 1\n",
    "        image_hsv = cv2.cvtColor(frame, cv2.COLOR_BGR2HSV)\n",
    "        v = image_hsv[:, :, 2]\n",
    "        \n",
    "        eve_mask = (v > 110)\n",
    "        dusk_mask = (v >= 30) & (v <= 70)\n",
    "        night_mask = (v < 20)\n",
    "\n",
    "        eve_p = np.sum(eve_mask)/v.size * 100\n",
    "        dusk_p = np.sum(dusk_mask)/v.size * 100\n",
    "        night_p = np.sum(night_mask)/v.size * 100\n",
    "\n",
    "        if eve_p > dusk_p and eve_p > night_p:\n",
    "            eve_cnt += 1\n",
    "            prediction = \"Evening\"\n",
    "        elif dusk_p > eve_p and dusk_p > night_p:\n",
    "            dusk_cnt += 1\n",
    "            prediction = \"Dusk\"\n",
    "        else:\n",
    "            night_cnt += 1\n",
    "            prediction = \"Night\"\n",
    "\n",
    "        text = f\"Evening: {eve_p:.2f}%  |   Dusk: {dusk_p:.2f}% |   Night: {night_p:.2f}%\"\n",
    "        pred_text = f\"Prediction: {prediction}\"\n",
    "        cv2.putText(img=frame, text=text, org=(20,50), fontFace=cv2.FONT_ITALIC, color = (255, 255, 255), fontScale=1)\n",
    "        cv2.putText(img=frame, text=pred_text, org=(20,100), fontFace=cv2.FONT_ITALIC, color = (255, 255, 255), fontScale=1)\n",
    "        \n",
    "        frame_resized = cv2.resize(frame, (1024, 800), interpolation= cv2.INTER_LINEAR)\n",
    "\n",
    "        cv2.imshow(\"video\",frame_resized)\n",
    "        out.write(frame)\n",
    "\n",
    "        if cv2.waitKey(10) & 0xFF == ord('q'):\n",
    "            break;\n",
    "\n",
    "    cap.release()\n",
    "    out.release()\n",
    "    cv2.destroyAllWindows()\n",
    "    \n",
    "    print(f\"Total no of frames: {frame_cnt}\")\n",
    "    per_split = {time_of_day : (cnt/frame_cnt)*100 for time_of_day, cnt in zip([\"Evening\", \"Dusk\", \"Night\"], [eve_cnt, dusk_cnt, night_cnt])}\n",
    "    for time, per in per_split.items():\n",
    "        print(f\"{time} is {per:.2f}%\")\n",
    "\n",
    "    return\n",
    "\n",
    "video_path = \"E:/My_project/Day_Night/input/5763215-hd_1920_1080_30fps.mp4\"\n",
    "output_path = \"E:/My_project/Day_Night/input/output/pred_video.mp4\"\n",
    "\n",
    "\n",
    "VideoClassification(video_path, output_path)\n"
   ]
  },
  {
   "cell_type": "code",
   "execution_count": null,
   "metadata": {},
   "outputs": [],
   "source": []
  }
 ],
 "metadata": {
  "kernelspec": {
   "display_name": "cv_env",
   "language": "python",
   "name": "python3"
  },
  "language_info": {
   "codemirror_mode": {
    "name": "ipython",
    "version": 3
   },
   "file_extension": ".py",
   "mimetype": "text/x-python",
   "name": "python",
   "nbconvert_exporter": "python",
   "pygments_lexer": "ipython3",
   "version": "3.12.7"
  }
 },
 "nbformat": 4,
 "nbformat_minor": 2
}
